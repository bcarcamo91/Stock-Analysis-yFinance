{
 "cells": [
  {
   "cell_type": "code",
   "execution_count": 4,
   "id": "2dfb703b",
   "metadata": {
    "scrolled": true
   },
   "outputs": [],
   "source": [
    "#Importing libraries\n",
    "import numpy as np\n",
    "import pandas as pd\n",
    "from bs4 import BeautifulSoup\n",
    "import requests\n",
    "import yfinance as yf"
   ]
  },
  {
   "cell_type": "code",
   "execution_count": 5,
   "id": "e2a3bf65",
   "metadata": {
    "scrolled": true
   },
   "outputs": [],
   "source": [
    "#Creating the TSLA ticker object with the yfinance method .Ticker which takes a string value of\n",
    "#a stock's ticker on a stock exchange\n",
    "tsla = yf.Ticker(\"TSLA\")"
   ]
  },
  {
   "cell_type": "code",
   "execution_count": 6,
   "id": "a4374e21",
   "metadata": {},
   "outputs": [],
   "source": [
    "#Use the ticker object method .history() and setting period to max (covers all historical data).\n",
    "#Assign data output to variable \"tesla_data\" which is a Pandas data frame\n",
    "tesla_data = tsla.history(period=\"max\")"
   ]
  },
  {
   "cell_type": "code",
   "execution_count": 7,
   "id": "6e49defc",
   "metadata": {
    "scrolled": true
   },
   "outputs": [],
   "source": [
    "tesla_data.reset_index(inplace=True)"
   ]
  },
  {
   "cell_type": "code",
   "execution_count": 8,
   "id": "173d1fc7",
   "metadata": {
    "scrolled": true
   },
   "outputs": [
    {
     "name": "stdout",
     "output_type": "stream",
     "text": [
      "                          Date        Open        High         Low   \n",
      "0    2010-06-29 00:00:00-04:00    1.266667    1.666667    1.169333  \\\n",
      "1    2010-06-30 00:00:00-04:00    1.719333    2.028000    1.553333   \n",
      "2    2010-07-01 00:00:00-04:00    1.666667    1.728000    1.351333   \n",
      "3    2010-07-02 00:00:00-04:00    1.533333    1.540000    1.247333   \n",
      "4    2010-07-06 00:00:00-04:00    1.333333    1.333333    1.055333   \n",
      "...                        ...         ...         ...         ...   \n",
      "3228 2023-04-26 00:00:00-04:00  160.289993  160.669998  153.139999   \n",
      "3229 2023-04-27 00:00:00-04:00  152.639999  160.479996  152.369995   \n",
      "3230 2023-04-28 00:00:00-04:00  160.899994  165.000000  157.320007   \n",
      "3231 2023-05-01 00:00:00-04:00  163.169998  163.279999  158.830002   \n",
      "3232 2023-05-02 00:00:00-04:00  161.880005  165.490005  158.929993   \n",
      "\n",
      "           Close     Volume  Dividends  Stock Splits  \n",
      "0       1.592667  281494500        0.0           0.0  \n",
      "1       1.588667  257806500        0.0           0.0  \n",
      "2       1.464000  123282000        0.0           0.0  \n",
      "3       1.280000   77097000        0.0           0.0  \n",
      "4       1.074000  103003500        0.0           0.0  \n",
      "...          ...        ...        ...           ...  \n",
      "3228  153.750000  153364100        0.0           0.0  \n",
      "3229  160.190002  127015200        0.0           0.0  \n",
      "3230  164.309998  122515800        0.0           0.0  \n",
      "3231  161.830002  109015000        0.0           0.0  \n",
      "3232  160.309998  127994700        0.0           0.0  \n",
      "\n",
      "[3233 rows x 8 columns]\n"
     ]
    }
   ],
   "source": [
    "#prints the historical data contained in the tesla_data dataframe\n",
    "print(tesla_data)"
   ]
  },
  {
   "cell_type": "code",
   "execution_count": 9,
   "id": "714bd326",
   "metadata": {},
   "outputs": [
    {
     "data": {
      "text/html": [
       "<div>\n",
       "<style scoped>\n",
       "    .dataframe tbody tr th:only-of-type {\n",
       "        vertical-align: middle;\n",
       "    }\n",
       "\n",
       "    .dataframe tbody tr th {\n",
       "        vertical-align: top;\n",
       "    }\n",
       "\n",
       "    .dataframe thead th {\n",
       "        text-align: right;\n",
       "    }\n",
       "</style>\n",
       "<table border=\"1\" class=\"dataframe\">\n",
       "  <thead>\n",
       "    <tr style=\"text-align: right;\">\n",
       "      <th></th>\n",
       "      <th>Date</th>\n",
       "      <th>Open</th>\n",
       "      <th>High</th>\n",
       "      <th>Low</th>\n",
       "      <th>Close</th>\n",
       "      <th>Volume</th>\n",
       "      <th>Dividends</th>\n",
       "      <th>Stock Splits</th>\n",
       "    </tr>\n",
       "  </thead>\n",
       "  <tbody>\n",
       "    <tr>\n",
       "      <th>0</th>\n",
       "      <td>2010-06-29 00:00:00-04:00</td>\n",
       "      <td>1.266667</td>\n",
       "      <td>1.666667</td>\n",
       "      <td>1.169333</td>\n",
       "      <td>1.592667</td>\n",
       "      <td>281494500</td>\n",
       "      <td>0.0</td>\n",
       "      <td>0.0</td>\n",
       "    </tr>\n",
       "    <tr>\n",
       "      <th>1</th>\n",
       "      <td>2010-06-30 00:00:00-04:00</td>\n",
       "      <td>1.719333</td>\n",
       "      <td>2.028000</td>\n",
       "      <td>1.553333</td>\n",
       "      <td>1.588667</td>\n",
       "      <td>257806500</td>\n",
       "      <td>0.0</td>\n",
       "      <td>0.0</td>\n",
       "    </tr>\n",
       "    <tr>\n",
       "      <th>2</th>\n",
       "      <td>2010-07-01 00:00:00-04:00</td>\n",
       "      <td>1.666667</td>\n",
       "      <td>1.728000</td>\n",
       "      <td>1.351333</td>\n",
       "      <td>1.464000</td>\n",
       "      <td>123282000</td>\n",
       "      <td>0.0</td>\n",
       "      <td>0.0</td>\n",
       "    </tr>\n",
       "    <tr>\n",
       "      <th>3</th>\n",
       "      <td>2010-07-02 00:00:00-04:00</td>\n",
       "      <td>1.533333</td>\n",
       "      <td>1.540000</td>\n",
       "      <td>1.247333</td>\n",
       "      <td>1.280000</td>\n",
       "      <td>77097000</td>\n",
       "      <td>0.0</td>\n",
       "      <td>0.0</td>\n",
       "    </tr>\n",
       "    <tr>\n",
       "      <th>4</th>\n",
       "      <td>2010-07-06 00:00:00-04:00</td>\n",
       "      <td>1.333333</td>\n",
       "      <td>1.333333</td>\n",
       "      <td>1.055333</td>\n",
       "      <td>1.074000</td>\n",
       "      <td>103003500</td>\n",
       "      <td>0.0</td>\n",
       "      <td>0.0</td>\n",
       "    </tr>\n",
       "  </tbody>\n",
       "</table>\n",
       "</div>"
      ],
      "text/plain": [
       "                       Date      Open      High       Low     Close   \n",
       "0 2010-06-29 00:00:00-04:00  1.266667  1.666667  1.169333  1.592667  \\\n",
       "1 2010-06-30 00:00:00-04:00  1.719333  2.028000  1.553333  1.588667   \n",
       "2 2010-07-01 00:00:00-04:00  1.666667  1.728000  1.351333  1.464000   \n",
       "3 2010-07-02 00:00:00-04:00  1.533333  1.540000  1.247333  1.280000   \n",
       "4 2010-07-06 00:00:00-04:00  1.333333  1.333333  1.055333  1.074000   \n",
       "\n",
       "      Volume  Dividends  Stock Splits  \n",
       "0  281494500        0.0           0.0  \n",
       "1  257806500        0.0           0.0  \n",
       "2  123282000        0.0           0.0  \n",
       "3   77097000        0.0           0.0  \n",
       "4  103003500        0.0           0.0  "
      ]
     },
     "execution_count": 9,
     "metadata": {},
     "output_type": "execute_result"
    }
   ],
   "source": [
    "#Prints the first five rows of dataframe tesla_data using the head method\n",
    "tesla_data.head(5)"
   ]
  },
  {
   "cell_type": "code",
   "execution_count": 10,
   "id": "00588ed7",
   "metadata": {},
   "outputs": [
    {
     "data": {
      "text/html": [
       "<div>\n",
       "<style scoped>\n",
       "    .dataframe tbody tr th:only-of-type {\n",
       "        vertical-align: middle;\n",
       "    }\n",
       "\n",
       "    .dataframe tbody tr th {\n",
       "        vertical-align: top;\n",
       "    }\n",
       "\n",
       "    .dataframe thead th {\n",
       "        text-align: right;\n",
       "    }\n",
       "</style>\n",
       "<table border=\"1\" class=\"dataframe\">\n",
       "  <thead>\n",
       "    <tr style=\"text-align: right;\">\n",
       "      <th></th>\n",
       "      <th>Open</th>\n",
       "      <th>High</th>\n",
       "      <th>Low</th>\n",
       "      <th>Close</th>\n",
       "      <th>Volume</th>\n",
       "      <th>Dividends</th>\n",
       "      <th>Stock Splits</th>\n",
       "    </tr>\n",
       "  </thead>\n",
       "  <tbody>\n",
       "    <tr>\n",
       "      <th>count</th>\n",
       "      <td>3233.000000</td>\n",
       "      <td>3233.000000</td>\n",
       "      <td>3233.000000</td>\n",
       "      <td>3233.000000</td>\n",
       "      <td>3.233000e+03</td>\n",
       "      <td>3233.0</td>\n",
       "      <td>3233.000000</td>\n",
       "    </tr>\n",
       "    <tr>\n",
       "      <th>mean</th>\n",
       "      <td>61.818221</td>\n",
       "      <td>63.212603</td>\n",
       "      <td>60.288778</td>\n",
       "      <td>61.782732</td>\n",
       "      <td>9.539269e+07</td>\n",
       "      <td>0.0</td>\n",
       "      <td>0.002474</td>\n",
       "    </tr>\n",
       "    <tr>\n",
       "      <th>std</th>\n",
       "      <td>96.271378</td>\n",
       "      <td>98.489158</td>\n",
       "      <td>93.779810</td>\n",
       "      <td>96.160394</td>\n",
       "      <td>8.164597e+07</td>\n",
       "      <td>0.0</td>\n",
       "      <td>0.102536</td>\n",
       "    </tr>\n",
       "    <tr>\n",
       "      <th>min</th>\n",
       "      <td>1.076000</td>\n",
       "      <td>1.108667</td>\n",
       "      <td>0.998667</td>\n",
       "      <td>1.053333</td>\n",
       "      <td>1.777500e+06</td>\n",
       "      <td>0.0</td>\n",
       "      <td>0.000000</td>\n",
       "    </tr>\n",
       "    <tr>\n",
       "      <th>25%</th>\n",
       "      <td>9.488000</td>\n",
       "      <td>9.710000</td>\n",
       "      <td>9.299333</td>\n",
       "      <td>9.479333</td>\n",
       "      <td>4.357800e+07</td>\n",
       "      <td>0.0</td>\n",
       "      <td>0.000000</td>\n",
       "    </tr>\n",
       "    <tr>\n",
       "      <th>50%</th>\n",
       "      <td>16.490000</td>\n",
       "      <td>16.726667</td>\n",
       "      <td>16.280001</td>\n",
       "      <td>16.504667</td>\n",
       "      <td>7.743300e+07</td>\n",
       "      <td>0.0</td>\n",
       "      <td>0.000000</td>\n",
       "    </tr>\n",
       "    <tr>\n",
       "      <th>75%</th>\n",
       "      <td>36.492668</td>\n",
       "      <td>37.629333</td>\n",
       "      <td>35.489334</td>\n",
       "      <td>36.480000</td>\n",
       "      <td>1.213455e+08</td>\n",
       "      <td>0.0</td>\n",
       "      <td>0.000000</td>\n",
       "    </tr>\n",
       "    <tr>\n",
       "      <th>max</th>\n",
       "      <td>411.470001</td>\n",
       "      <td>414.496674</td>\n",
       "      <td>405.666656</td>\n",
       "      <td>409.970001</td>\n",
       "      <td>9.140820e+08</td>\n",
       "      <td>0.0</td>\n",
       "      <td>5.000000</td>\n",
       "    </tr>\n",
       "  </tbody>\n",
       "</table>\n",
       "</div>"
      ],
      "text/plain": [
       "              Open         High          Low        Close        Volume   \n",
       "count  3233.000000  3233.000000  3233.000000  3233.000000  3.233000e+03  \\\n",
       "mean     61.818221    63.212603    60.288778    61.782732  9.539269e+07   \n",
       "std      96.271378    98.489158    93.779810    96.160394  8.164597e+07   \n",
       "min       1.076000     1.108667     0.998667     1.053333  1.777500e+06   \n",
       "25%       9.488000     9.710000     9.299333     9.479333  4.357800e+07   \n",
       "50%      16.490000    16.726667    16.280001    16.504667  7.743300e+07   \n",
       "75%      36.492668    37.629333    35.489334    36.480000  1.213455e+08   \n",
       "max     411.470001   414.496674   405.666656   409.970001  9.140820e+08   \n",
       "\n",
       "       Dividends  Stock Splits  \n",
       "count     3233.0   3233.000000  \n",
       "mean         0.0      0.002474  \n",
       "std          0.0      0.102536  \n",
       "min          0.0      0.000000  \n",
       "25%          0.0      0.000000  \n",
       "50%          0.0      0.000000  \n",
       "75%          0.0      0.000000  \n",
       "max          0.0      5.000000  "
      ]
     },
     "execution_count": 10,
     "metadata": {},
     "output_type": "execute_result"
    }
   ],
   "source": [
    "#Generates descriptibe statistics about the data set\n",
    "tesla_data.describe()\n"
   ]
  },
  {
   "cell_type": "code",
   "execution_count": 11,
   "id": "9907c219",
   "metadata": {},
   "outputs": [
    {
     "data": {
      "text/plain": [
       "(3233, 8)"
      ]
     },
     "execution_count": 11,
     "metadata": {},
     "output_type": "execute_result"
    }
   ],
   "source": [
    "#Shape gives us literally the shape of the dataset: how many columns and rows it has. In this case,\n",
    "#tesla_data has 3,233 rows and 8 columns.\n",
    "tesla_data.shape"
   ]
  },
  {
   "cell_type": "code",
   "execution_count": 12,
   "id": "837a922f",
   "metadata": {},
   "outputs": [
    {
     "name": "stdout",
     "output_type": "stream",
     "text": [
      "Date            2023-05-02 00:00:00-04:00\n",
      "Open                           411.470001\n",
      "High                           414.496674\n",
      "Low                            405.666656\n",
      "Close                          409.970001\n",
      "Volume                          914082000\n",
      "Dividends                             0.0\n",
      "Stock Splits                          5.0\n",
      "dtype: object\n",
      "Date            2010-06-29 00:00:00-04:00\n",
      "Open                                1.076\n",
      "High                             1.108667\n",
      "Low                              0.998667\n",
      "Close                            1.053333\n",
      "Volume                            1777500\n",
      "Dividends                             0.0\n",
      "Stock Splits                          0.0\n",
      "dtype: object\n",
      "Date            2016-11-28 05:17:55.657284608-05:00\n",
      "Open                                      61.818221\n",
      "High                                      63.212603\n",
      "Low                                       60.288778\n",
      "Close                                     61.782732\n",
      "Volume                              95392691.896072\n",
      "Dividends                                       0.0\n",
      "Stock Splits                               0.002474\n",
      "dtype: object\n"
     ]
    }
   ],
   "source": [
    "#What if we want to know the max of each column? Or the min?\n",
    "print(tesla_data.max())\n",
    "print(tesla_data.min())\n",
    "print(tesla_data.mean())\n",
    "\n",
    "#We can see the the max date range is May 2, 2023 and the min date range is June 29, 2010.\n",
    "#Therefore, we can conclude that the data set spans 13 years. "
   ]
  },
  {
   "cell_type": "code",
   "execution_count": 13,
   "id": "897368ae",
   "metadata": {},
   "outputs": [],
   "source": [
    "#what if we wanted to know the max value of only the close column? You pass the name of the column in as a string argument\n",
    "#to the tesla data frame\n",
    "max_value = tesla_data['Close'].max()"
   ]
  },
  {
   "cell_type": "code",
   "execution_count": 14,
   "id": "18236852",
   "metadata": {},
   "outputs": [
    {
     "name": "stdout",
     "output_type": "stream",
     "text": [
      "409.9700012207031\n"
     ]
    }
   ],
   "source": [
    "print(max_value)"
   ]
  },
  {
   "cell_type": "code",
   "execution_count": 15,
   "id": "14a4a554",
   "metadata": {},
   "outputs": [
    {
     "name": "stdout",
     "output_type": "stream",
     "text": [
      "[2859]\n"
     ]
    }
   ],
   "source": [
    "#What if we wanted to get the date of where the close value was at its max?\n",
    "#In this case, we know that the date column is the index, so we simply get the index value\n",
    "#where the close column has the max value. \n",
    "print(tesla_data[tesla_data['Close']==max_value].index.values)"
   ]
  },
  {
   "cell_type": "code",
   "execution_count": 16,
   "id": "c0ea1ef6",
   "metadata": {},
   "outputs": [],
   "source": [
    "#Finally, to plot the time series, import pyplot from matplotlib and seaborn which works\n",
    "#closely with matplotlib to graph the timeseries. We use the method \"lineplot\" from seaborn\n",
    "# to plot the time series. \n",
    "import matplotlib.pyplot as plt\n",
    "import seaborn as sb"
   ]
  },
  {
   "cell_type": "code",
   "execution_count": 21,
   "id": "916c5cde",
   "metadata": {
    "scrolled": true
   },
   "outputs": [
    {
     "data": {
      "text/plain": [
       "<Axes: xlabel='Date', ylabel='Close'>"
      ]
     },
     "execution_count": 21,
     "metadata": {},
     "output_type": "execute_result"
    },
    {
     "data": {
      "image/png": "[encoded data removed]",
      "text/plain": [
       "<Figure size 2000x1000 with 1 Axes>"
      ]
     },
     "metadata": {},
     "output_type": "display_data"
    }
   ],
   "source": [
    "plt.figure(figsize=(20, 10))\n",
    "sb.set_style(\"darkgrid\")\n",
    "sb.lineplot(data=tesla_data, x=\"Date\", y='Close', color='teal')"
   ]
  }
 ],
 "metadata": {
  "kernelspec": {
   "display_name": "Python 3 (ipykernel)",
   "language": "python",
   "name": "python3"
  },
  "language_info": {
   "codemirror_mode": {
    "name": "ipython",
    "version": 3
   },
   "file_extension": ".py",
   "mimetype": "text/x-python",
   "name": "python",
   "nbconvert_exporter": "python",
   "pygments_lexer": "ipython3",
   "version": "3.11.3"
  }
 },
 "nbformat": 4,
 "nbformat_minor": 5
}
